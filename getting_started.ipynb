{
 "cells": [
  {
   "cell_type": "code",
   "execution_count": 1,
   "id": "a31319ba-c0be-453b-a7aa-0792bccab9aa",
   "metadata": {},
   "outputs": [
    {
     "name": "stdout",
     "output_type": "stream",
     "text": [
      "shape: (3, 4)\n",
      "┌─────┬─────────────────────┬─────┬─────┐\n",
      "│ a   ┆ b                   ┆ c   ┆ d   │\n",
      "│ --- ┆ ---                 ┆ --- ┆ --- │\n",
      "│ i64 ┆ datetime[μs]        ┆ f64 ┆ str │\n",
      "╞═════╪═════════════════════╪═════╪═════╡\n",
      "│ 1   ┆ 2025-01-01 00:00:00 ┆ 4.0 ┆ a   │\n",
      "│ 2   ┆ 2025-01-02 00:00:00 ┆ 5.0 ┆ b   │\n",
      "│ 3   ┆ 2025-01-03 00:00:00 ┆ 6.0 ┆ c   │\n",
      "└─────┴─────────────────────┴─────┴─────┘\n"
     ]
    }
   ],
   "source": [
    "import polars as pl\n",
    "\n",
    "df = pl.DataFrame(\n",
    "    {\n",
    "        \"a\": [1, 2, 3],\n",
    "        \"b\": [\n",
    "            datetime(2025, 1, 1),\n",
    "            datetime(2025, 1, 2),\n",
    "            datetime(2025, 1, 3),\n",
    "        ],\n",
    "        \"c\": [4.0, 5.0, 6.0],\n",
    "        \"d\": [\"a\", \"b\", \"c\"],\n",
    "    }\n",
    ")\n",
    "\n",
    "print(df)"
   ]
  },
  {
   "cell_type": "code",
   "execution_count": 17,
   "id": "632ec782-7b5b-44e3-bf70-a02f37053e88",
   "metadata": {},
   "outputs": [
    {
     "name": "stdout",
     "output_type": "stream",
     "text": [
      "Int64\n",
      "Datetime(time_unit='us', time_zone=None)\n",
      "Float64\n",
      "String\n"
     ]
    }
   ],
   "source": [
    "# help(df)\n",
    "for t in df.dtypes:\n",
    "    print(t)"
   ]
  },
  {
   "cell_type": "code",
   "execution_count": 20,
   "id": "a61be471-e86f-4ae1-a648-b3d34b8f3668",
   "metadata": {},
   "outputs": [
    {
     "data": {
      "text/html": [
       "<div><style>\n",
       ".dataframe > thead > tr,\n",
       ".dataframe > tbody > tr {\n",
       "  text-align: right;\n",
       "  white-space: pre-wrap;\n",
       "}\n",
       "</style>\n",
       "<small>shape: (3, 2)</small><table border=\"1\" class=\"dataframe\"><thead><tr><th>a</th><th>b</th></tr><tr><td>i64</td><td>datetime[μs]</td></tr></thead><tbody><tr><td>1</td><td>2025-01-01 00:00:00</td></tr><tr><td>2</td><td>2025-01-02 00:00:00</td></tr><tr><td>3</td><td>2025-01-03 00:00:00</td></tr></tbody></table></div>"
      ],
      "text/plain": [
       "shape: (3, 2)\n",
       "┌─────┬─────────────────────┐\n",
       "│ a   ┆ b                   │\n",
       "│ --- ┆ ---                 │\n",
       "│ i64 ┆ datetime[μs]        │\n",
       "╞═════╪═════════════════════╡\n",
       "│ 1   ┆ 2025-01-01 00:00:00 │\n",
       "│ 2   ┆ 2025-01-02 00:00:00 │\n",
       "│ 3   ┆ 2025-01-03 00:00:00 │\n",
       "└─────┴─────────────────────┘"
      ]
     },
     "execution_count": 20,
     "metadata": {},
     "output_type": "execute_result"
    }
   ],
   "source": [
    "df.select(pl.col(\"a\", \"b\"))"
   ]
  },
  {
   "cell_type": "code",
   "execution_count": 25,
   "id": "349c43e2-50b9-4f75-b3f0-7d71316a7b4d",
   "metadata": {},
   "outputs": [
    {
     "data": {
      "text/html": [
       "<div><style>\n",
       ".dataframe > thead > tr,\n",
       ".dataframe > tbody > tr {\n",
       "  text-align: right;\n",
       "  white-space: pre-wrap;\n",
       "}\n",
       "</style>\n",
       "<small>shape: (2, 4)</small><table border=\"1\" class=\"dataframe\"><thead><tr><th>a</th><th>b</th><th>c</th><th>d</th></tr><tr><td>i64</td><td>datetime[μs]</td><td>f64</td><td>str</td></tr></thead><tbody><tr><td>1</td><td>2025-01-01 00:00:00</td><td>4.0</td><td>&quot;a&quot;</td></tr><tr><td>2</td><td>2025-01-02 00:00:00</td><td>5.0</td><td>&quot;b&quot;</td></tr></tbody></table></div>"
      ],
      "text/plain": [
       "shape: (2, 4)\n",
       "┌─────┬─────────────────────┬─────┬─────┐\n",
       "│ a   ┆ b                   ┆ c   ┆ d   │\n",
       "│ --- ┆ ---                 ┆ --- ┆ --- │\n",
       "│ i64 ┆ datetime[μs]        ┆ f64 ┆ str │\n",
       "╞═════╪═════════════════════╪═════╪═════╡\n",
       "│ 1   ┆ 2025-01-01 00:00:00 ┆ 4.0 ┆ a   │\n",
       "│ 2   ┆ 2025-01-02 00:00:00 ┆ 5.0 ┆ b   │\n",
       "└─────┴─────────────────────┴─────┴─────┘"
      ]
     },
     "execution_count": 25,
     "metadata": {},
     "output_type": "execute_result"
    }
   ],
   "source": [
    "df.filter(\n",
    "    pl.col(\"b\").is_between(datetime(2025, 1, 1), datetime(2025, 1, 2)),\n",
    ")"
   ]
  },
  {
   "cell_type": "code",
   "execution_count": 27,
   "id": "a051f9b1-8cc5-40bc-8f4c-adafde03df96",
   "metadata": {},
   "outputs": [
    {
     "data": {
      "text/html": [
       "<div><style>\n",
       ".dataframe > thead > tr,\n",
       ".dataframe > tbody > tr {\n",
       "  text-align: right;\n",
       "  white-space: pre-wrap;\n",
       "}\n",
       "</style>\n",
       "<small>shape: (3, 6)</small><table border=\"1\" class=\"dataframe\"><thead><tr><th>a</th><th>b</th><th>c</th><th>d</th><th>e</th><th>b+42</th></tr><tr><td>i64</td><td>datetime[μs]</td><td>f64</td><td>str</td><td>f64</td><td>f64</td></tr></thead><tbody><tr><td>1</td><td>2025-01-01 00:00:00</td><td>4.0</td><td>&quot;a&quot;</td><td>15.0</td><td>46.0</td></tr><tr><td>2</td><td>2025-01-02 00:00:00</td><td>5.0</td><td>&quot;b&quot;</td><td>15.0</td><td>47.0</td></tr><tr><td>3</td><td>2025-01-03 00:00:00</td><td>6.0</td><td>&quot;c&quot;</td><td>15.0</td><td>48.0</td></tr></tbody></table></div>"
      ],
      "text/plain": [
       "shape: (3, 6)\n",
       "┌─────┬─────────────────────┬─────┬─────┬──────┬──────┐\n",
       "│ a   ┆ b                   ┆ c   ┆ d   ┆ e    ┆ b+42 │\n",
       "│ --- ┆ ---                 ┆ --- ┆ --- ┆ ---  ┆ ---  │\n",
       "│ i64 ┆ datetime[μs]        ┆ f64 ┆ str ┆ f64  ┆ f64  │\n",
       "╞═════╪═════════════════════╪═════╪═════╪══════╪══════╡\n",
       "│ 1   ┆ 2025-01-01 00:00:00 ┆ 4.0 ┆ a   ┆ 15.0 ┆ 46.0 │\n",
       "│ 2   ┆ 2025-01-02 00:00:00 ┆ 5.0 ┆ b   ┆ 15.0 ┆ 47.0 │\n",
       "│ 3   ┆ 2025-01-03 00:00:00 ┆ 6.0 ┆ c   ┆ 15.0 ┆ 48.0 │\n",
       "└─────┴─────────────────────┴─────┴─────┴──────┴──────┘"
      ]
     },
     "execution_count": 27,
     "metadata": {},
     "output_type": "execute_result"
    }
   ],
   "source": [
    "df.with_columns(pl.col(\"c\").sum().alias(\"e\"), (pl.col(\"c\") + 42).alias(\"b+42\"))"
   ]
  },
  {
   "cell_type": "code",
   "execution_count": 28,
   "id": "01c2fb1d-59a5-46e3-b832-1f5ce5526a97",
   "metadata": {},
   "outputs": [],
   "source": [
    "df2 = pl.DataFrame({ \"x\": range(8), \"y\": [\"A\", \"A\", \"A\", \"B\", \"B\", \"C\", \"X\", \"X\"]})"
   ]
  },
  {
   "cell_type": "code",
   "execution_count": 31,
   "id": "c17a32db-837d-46fd-8889-441e1b8feb37",
   "metadata": {},
   "outputs": [
    {
     "data": {
      "text/html": [
       "<div><style>\n",
       ".dataframe > thead > tr,\n",
       ".dataframe > tbody > tr {\n",
       "  text-align: right;\n",
       "  white-space: pre-wrap;\n",
       "}\n",
       "</style>\n",
       "<small>shape: (4, 2)</small><table border=\"1\" class=\"dataframe\"><thead><tr><th>y</th><th>len</th></tr><tr><td>str</td><td>u32</td></tr></thead><tbody><tr><td>&quot;A&quot;</td><td>3</td></tr><tr><td>&quot;B&quot;</td><td>2</td></tr><tr><td>&quot;C&quot;</td><td>1</td></tr><tr><td>&quot;X&quot;</td><td>2</td></tr></tbody></table></div>"
      ],
      "text/plain": [
       "shape: (4, 2)\n",
       "┌─────┬─────┐\n",
       "│ y   ┆ len │\n",
       "│ --- ┆ --- │\n",
       "│ str ┆ u32 │\n",
       "╞═════╪═════╡\n",
       "│ A   ┆ 3   │\n",
       "│ B   ┆ 2   │\n",
       "│ C   ┆ 1   │\n",
       "│ X   ┆ 2   │\n",
       "└─────┴─────┘"
      ]
     },
     "execution_count": 31,
     "metadata": {},
     "output_type": "execute_result"
    }
   ],
   "source": [
    "df2.group_by(\"y\", maintain_order=True).len()"
   ]
  },
  {
   "cell_type": "code",
   "execution_count": 32,
   "id": "19f19d33-5488-4fb8-b6be-716e918019a8",
   "metadata": {},
   "outputs": [
    {
     "data": {
      "text/html": [
       "<div><style>\n",
       ".dataframe > thead > tr,\n",
       ".dataframe > tbody > tr {\n",
       "  text-align: right;\n",
       "  white-space: pre-wrap;\n",
       "}\n",
       "</style>\n",
       "<small>shape: (4, 3)</small><table border=\"1\" class=\"dataframe\"><thead><tr><th>y</th><th>count col</th><th>sum col</th></tr><tr><td>str</td><td>u32</td><td>i64</td></tr></thead><tbody><tr><td>&quot;A&quot;</td><td>3</td><td>3</td></tr><tr><td>&quot;B&quot;</td><td>2</td><td>7</td></tr><tr><td>&quot;C&quot;</td><td>1</td><td>5</td></tr><tr><td>&quot;X&quot;</td><td>2</td><td>13</td></tr></tbody></table></div>"
      ],
      "text/plain": [
       "shape: (4, 3)\n",
       "┌─────┬───────────┬─────────┐\n",
       "│ y   ┆ count col ┆ sum col │\n",
       "│ --- ┆ ---       ┆ ---     │\n",
       "│ str ┆ u32       ┆ i64     │\n",
       "╞═════╪═══════════╪═════════╡\n",
       "│ A   ┆ 3         ┆ 3       │\n",
       "│ B   ┆ 2         ┆ 7       │\n",
       "│ C   ┆ 1         ┆ 5       │\n",
       "│ X   ┆ 2         ┆ 13      │\n",
       "└─────┴───────────┴─────────┘"
      ]
     },
     "execution_count": 32,
     "metadata": {},
     "output_type": "execute_result"
    }
   ],
   "source": [
    "df2.group_by(\"y\", maintain_order=True).agg(\n",
    "    pl.col(\"*\").count().alias(\"count col\"),\n",
    "    pl.col(\"*\").sum().alias(\"sum col\"),\n",
    ")"
   ]
  },
  {
   "cell_type": "code",
   "execution_count": 33,
   "id": "b31264b9-67b8-475a-a7d0-c85e48405b36",
   "metadata": {},
   "outputs": [
    {
     "data": {
      "text/html": [
       "<div><style>\n",
       ".dataframe > thead > tr,\n",
       ".dataframe > tbody > tr {\n",
       "  text-align: right;\n",
       "  white-space: pre-wrap;\n",
       "}\n",
       "</style>\n",
       "<small>shape: (8, 2)</small><table border=\"1\" class=\"dataframe\"><thead><tr><th>x</th><th>y</th></tr><tr><td>i64</td><td>str</td></tr></thead><tbody><tr><td>0</td><td>&quot;A&quot;</td></tr><tr><td>1</td><td>&quot;A&quot;</td></tr><tr><td>2</td><td>&quot;A&quot;</td></tr><tr><td>3</td><td>&quot;B&quot;</td></tr><tr><td>4</td><td>&quot;B&quot;</td></tr><tr><td>5</td><td>&quot;C&quot;</td></tr><tr><td>6</td><td>&quot;X&quot;</td></tr><tr><td>7</td><td>&quot;X&quot;</td></tr></tbody></table></div>"
      ],
      "text/plain": [
       "shape: (8, 2)\n",
       "┌─────┬─────┐\n",
       "│ x   ┆ y   │\n",
       "│ --- ┆ --- │\n",
       "│ i64 ┆ str │\n",
       "╞═════╪═════╡\n",
       "│ 0   ┆ A   │\n",
       "│ 1   ┆ A   │\n",
       "│ 2   ┆ A   │\n",
       "│ 3   ┆ B   │\n",
       "│ 4   ┆ B   │\n",
       "│ 5   ┆ C   │\n",
       "│ 6   ┆ X   │\n",
       "│ 7   ┆ X   │\n",
       "└─────┴─────┘"
      ]
     },
     "execution_count": 33,
     "metadata": {},
     "output_type": "execute_result"
    }
   ],
   "source": [
    "df2"
   ]
  },
  {
   "cell_type": "code",
   "execution_count": 39,
   "id": "1f0ddbce-98a1-4002-8baa-cdcdbab59da5",
   "metadata": {},
   "outputs": [
    {
     "data": {
      "text/html": [
       "<div><style>\n",
       ".dataframe > thead > tr,\n",
       ".dataframe > tbody > tr {\n",
       "  text-align: right;\n",
       "  white-space: pre-wrap;\n",
       "}\n",
       "</style>\n",
       "<small>shape: (3, 5)</small><table border=\"1\" class=\"dataframe\"><thead><tr><th>a</th><th>b</th><th>c</th><th>d</th><th>a * c</th></tr><tr><td>i64</td><td>datetime[μs]</td><td>f64</td><td>str</td><td>f64</td></tr></thead><tbody><tr><td>1</td><td>2025-01-01 00:00:00</td><td>4.0</td><td>&quot;a&quot;</td><td>4.0</td></tr><tr><td>2</td><td>2025-01-02 00:00:00</td><td>5.0</td><td>&quot;b&quot;</td><td>10.0</td></tr><tr><td>3</td><td>2025-01-03 00:00:00</td><td>6.0</td><td>&quot;c&quot;</td><td>18.0</td></tr></tbody></table></div>"
      ],
      "text/plain": [
       "shape: (3, 5)\n",
       "┌─────┬─────────────────────┬─────┬─────┬───────┐\n",
       "│ a   ┆ b                   ┆ c   ┆ d   ┆ a * c │\n",
       "│ --- ┆ ---                 ┆ --- ┆ --- ┆ ---   │\n",
       "│ i64 ┆ datetime[μs]        ┆ f64 ┆ str ┆ f64   │\n",
       "╞═════╪═════════════════════╪═════╪═════╪═══════╡\n",
       "│ 1   ┆ 2025-01-01 00:00:00 ┆ 4.0 ┆ a   ┆ 4.0   │\n",
       "│ 2   ┆ 2025-01-02 00:00:00 ┆ 5.0 ┆ b   ┆ 10.0  │\n",
       "│ 3   ┆ 2025-01-03 00:00:00 ┆ 6.0 ┆ c   ┆ 18.0  │\n",
       "└─────┴─────────────────────┴─────┴─────┴───────┘"
      ]
     },
     "execution_count": 39,
     "metadata": {},
     "output_type": "execute_result"
    }
   ],
   "source": [
    "df_x = df.with_columns(\n",
    "    (pl.col(\"a\") * pl.col(\"c\")).alias(\"a * c\")\n",
    ")\n",
    "df_x"
   ]
  },
  {
   "cell_type": "code",
   "execution_count": 40,
   "id": "af91b008-0849-46b3-b611-52d61da96234",
   "metadata": {},
   "outputs": [],
   "source": [
    "import numpy as np"
   ]
  },
  {
   "cell_type": "code",
   "execution_count": 41,
   "id": "856fb5d5-3a96-4901-9b03-0a3dadf5b99a",
   "metadata": {},
   "outputs": [],
   "source": [
    "df = pl.DataFrame(\n",
    "    {\n",
    "        \"a\": range(8),\n",
    "        \"b\": np.random.rand(8),\n",
    "        \"d\": [1.0, 2.0, float(\"nan\"), float(\"nan\"), 0.0, -5.0, -42.0, None],\n",
    "    }\n",
    ")\n",
    "\n",
    "df2 = pl.DataFrame(\n",
    "    {\n",
    "        \"x\": range(8),\n",
    "        \"y\": [\"A\", \"A\", \"A\", \"B\", \"B\", \"C\", \"X\", \"X\"],\n",
    "    }\n",
    ")"
   ]
  },
  {
   "cell_type": "code",
   "execution_count": 42,
   "id": "f5636cd3-598d-4406-a5b5-1e420563a618",
   "metadata": {},
   "outputs": [
    {
     "data": {
      "text/html": [
       "<div><style>\n",
       ".dataframe > thead > tr,\n",
       ".dataframe > tbody > tr {\n",
       "  text-align: right;\n",
       "  white-space: pre-wrap;\n",
       "}\n",
       "</style>\n",
       "<small>shape: (8, 4)</small><table border=\"1\" class=\"dataframe\"><thead><tr><th>a</th><th>b</th><th>d</th><th>y</th></tr><tr><td>i64</td><td>f64</td><td>f64</td><td>str</td></tr></thead><tbody><tr><td>0</td><td>0.709137</td><td>1.0</td><td>&quot;A&quot;</td></tr><tr><td>1</td><td>0.973489</td><td>2.0</td><td>&quot;A&quot;</td></tr><tr><td>2</td><td>0.524058</td><td>NaN</td><td>&quot;A&quot;</td></tr><tr><td>3</td><td>0.328025</td><td>NaN</td><td>&quot;B&quot;</td></tr><tr><td>4</td><td>0.807074</td><td>0.0</td><td>&quot;B&quot;</td></tr><tr><td>5</td><td>0.210212</td><td>-5.0</td><td>&quot;C&quot;</td></tr><tr><td>6</td><td>0.389202</td><td>-42.0</td><td>&quot;X&quot;</td></tr><tr><td>7</td><td>0.906147</td><td>null</td><td>&quot;X&quot;</td></tr></tbody></table></div>"
      ],
      "text/plain": [
       "shape: (8, 4)\n",
       "┌─────┬──────────┬───────┬─────┐\n",
       "│ a   ┆ b        ┆ d     ┆ y   │\n",
       "│ --- ┆ ---      ┆ ---   ┆ --- │\n",
       "│ i64 ┆ f64      ┆ f64   ┆ str │\n",
       "╞═════╪══════════╪═══════╪═════╡\n",
       "│ 0   ┆ 0.709137 ┆ 1.0   ┆ A   │\n",
       "│ 1   ┆ 0.973489 ┆ 2.0   ┆ A   │\n",
       "│ 2   ┆ 0.524058 ┆ NaN   ┆ A   │\n",
       "│ 3   ┆ 0.328025 ┆ NaN   ┆ B   │\n",
       "│ 4   ┆ 0.807074 ┆ 0.0   ┆ B   │\n",
       "│ 5   ┆ 0.210212 ┆ -5.0  ┆ C   │\n",
       "│ 6   ┆ 0.389202 ┆ -42.0 ┆ X   │\n",
       "│ 7   ┆ 0.906147 ┆ null  ┆ X   │\n",
       "└─────┴──────────┴───────┴─────┘"
      ]
     },
     "execution_count": 42,
     "metadata": {},
     "output_type": "execute_result"
    }
   ],
   "source": [
    "joined = df.join(df2, left_on=\"a\", right_on=\"x\")\n",
    "joined"
   ]
  },
  {
   "cell_type": "code",
   "execution_count": null,
   "id": "0d470e8d-621f-4c0e-a835-c4a20ec0f500",
   "metadata": {},
   "outputs": [],
   "source": []
  }
 ],
 "metadata": {
  "kernelspec": {
   "display_name": "Python 3 (ipykernel)",
   "language": "python",
   "name": "python3"
  },
  "language_info": {
   "codemirror_mode": {
    "name": "ipython",
    "version": 3
   },
   "file_extension": ".py",
   "mimetype": "text/x-python",
   "name": "python",
   "nbconvert_exporter": "python",
   "pygments_lexer": "ipython3",
   "version": "3.11.5"
  }
 },
 "nbformat": 4,
 "nbformat_minor": 5
}
